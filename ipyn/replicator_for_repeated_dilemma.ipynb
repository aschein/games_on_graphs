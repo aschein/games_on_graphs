{
 "cells": [
  {
   "cell_type": "code",
   "execution_count": 1,
   "metadata": {
    "collapsed": true
   },
   "outputs": [],
   "source": [
    "from pylab import * # Because \"what can go wrong?\"\n",
    "%matplotlib inline"
   ]
  },
  {
   "cell_type": "markdown",
   "metadata": {},
   "source": [
    "# Reactive Strategies in Prisoner's Dilemma \n",
    "\n",
    "A reactive strategy in Prisoner's Dilemma is defined by first picking $p,q\\in [0,1]$. Then, if $S_i(k)$ is the strategy of the ith player at the kth step,\n",
    "\n",
    "\\begin{align*}\n",
    "           P(S_1(k)=C|S_2(k-1)=C)&=p,\\\\\n",
    "           P(S_1(k)=C|S_2(k-1)=D)&=q.\n",
    "\\end{align*}"
   ]
  },
  {
   "cell_type": "code",
   "execution_count": 23,
   "metadata": {
    "collapsed": false
   },
   "outputs": [
    {
     "name": "stdout",
     "output_type": "stream",
     "text": [
      "Valid P-D matrix : True\n"
     ]
    }
   ],
   "source": [
    "# Number of players/strategies\n",
    "nplay = 10;\n",
    "\n",
    "\n",
    "# Strategy vector. Only holds (p,q)\n",
    "S = rand(nplay,2)\n",
    "\n",
    "# Payoff matrix for Prisoner's Dilemma\n",
    "\n",
    "Pa = array([[3,0],\n",
    "           [5,1]])\n",
    "\n",
    "# Sanity check \n",
    "print 'Valid P-D matrix :', (Pa[1,0]>Pa[0,0] and Pa[0,0]>Pa[1,1] and Pa[1,1]>Pa[0,1])\n",
    "\n",
    "\n",
    "# Helper functions\n",
    "r = lambda i,j:array([S[i,0]-S[i,1],S[j,0]-S[j,1]]);\n",
    "\n",
    "s = lambda i,j:array([(S[j,1]*r(i,j)[0]+S[i,1])/(1-r(i,j)[0]*r(i,j)[1]),\n",
    "                      (S[i,1]*r(i,j)[1]+S[j,1])/(1-r(i,j)[0]*r(i,j)[1])])\n",
    "\n",
    "\n",
    "E = zeros([nplay,nplay])\n",
    "\n",
    "# Calculating expected payoff for all strategies\n",
    "for i in xrange(nplay):\n",
    "    for j in xrange(nplay):\n",
    "        E[i,j] = Pa[0,0]*s(i,j)[0]*s(i,j)[1]+Pa[0,1]*(1-s(i,j)[1])*s(i,j)[0]+Pa[1,0]*(1-s(i,j)[0])*s(i,j)[1]\n",
    "        +Pa[1,1]*(1-s(i,j)[0])*(1-s(i,j)[1]);\n",
    "        \n",
    "\n",
    "# Set-up for the ODE\n",
    "def F(x,i):\n",
    "    return x[i]*((E.dot(x))[i]-x.dot(E.dot(x)))\n",
    "        "
   ]
  },
  {
   "cell_type": "code",
   "execution_count": null,
   "metadata": {
    "collapsed": true
   },
   "outputs": [],
   "source": []
  }
 ],
 "metadata": {
  "kernelspec": {
   "display_name": "Python 2",
   "language": "python",
   "name": "python2"
  },
  "language_info": {
   "codemirror_mode": {
    "name": "ipython",
    "version": 2
   },
   "file_extension": ".py",
   "mimetype": "text/x-python",
   "name": "python",
   "nbconvert_exporter": "python",
   "pygments_lexer": "ipython2",
   "version": "2.7.10"
  }
 },
 "nbformat": 4,
 "nbformat_minor": 0
}
